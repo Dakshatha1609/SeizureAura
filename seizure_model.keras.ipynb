{
 "cells": [
  {
   "cell_type": "code",
   "execution_count": 22,
   "id": "5dd08328-cbe6-4e4b-8a2e-afd5c52db8a4",
   "metadata": {},
   "outputs": [
    {
     "name": "stdout",
     "output_type": "stream",
     "text": [
      "Processing 39 EEG files...\n",
      "Processing 39 EEG files...\n"
     ]
    },
    {
     "name": "stderr",
     "output_type": "stream",
     "text": [
      "100%|██████████| 39/39 [02:22<00:00,  3.65s/it]\n"
     ]
    },
    {
     "name": "stdout",
     "output_type": "stream",
     "text": [
      "Dataset created:\n",
      "Total samples: 273605\n",
      "Features per sample: 46\n",
      "Seizure samples: 0\n",
      "Normal samples: 273605\n",
      "Complete dataset saved!\n"
     ]
    }
   ],
   "source": [
    "import numpy as np\n",
    "import pyedflib\n",
    "import os\n",
    "import zipfile\n",
    "from tqdm import tqdm\n",
    "import pandas as pd\n",
    "\n",
    "zip_path = 'EEG_DATASETS.zip' \n",
    "extract_path = './edf_data'\n",
    "\n",
    "if not os.path.exists(extract_path):\n",
    "    with zipfile.ZipFile(zip_path, 'r') as zip_ref:\n",
    "        zip_ref.extractall(extract_path)\n",
    "        print(f\"Extracted files to {extract_path}\")\n",
    "\n",
    "edf_files = [os.path.join(extract_path, f) for f in os.listdir(extract_path) if f.endswith('.edf')]\n",
    "print(f\"Processing {len(edf_files)} EEG files...\")\n",
    "\n",
    "\n",
    "edf_files = [os.path.join(extract_path, f) for f in os.listdir(extract_path) if f.endswith('.edf')]\n",
    "print(f\"Processing {len(edf_files)} EEG files...\")\n",
    "\n",
    "all_features = []\n",
    "all_labels = []\n",
    "file_info = []\n",
    "\n",
    "from scipy.signal import butter, filtfilt\n",
    "import numpy as np\n",
    "\n",
    "# Define bandpass filter function\n",
    "def bandpass_filter(data, low=0.5, high=40, fs=256, order=5):\n",
    "    nyq = 0.5 * fs\n",
    "    low /= nyq\n",
    "    high /= nyq\n",
    "    b, a = butter(order, [low, high], btype='band')\n",
    "    return filtfilt(b, a, data, axis=1)\n",
    "\n",
    "# Define sliding window feature extraction function\n",
    "def sliding_window_features(data, window_size=256, step_size=128):\n",
    "    num_channels, num_samples = data.shape\n",
    "    features = []\n",
    "    for start in range(0, num_samples - window_size + 1, step_size):\n",
    "        window = data[:, start:start + window_size]\n",
    "        # Example features: mean and std per channel\n",
    "        feat = np.concatenate([np.mean(window, axis=1), np.std(window, axis=1)])\n",
    "        features.append(feat)\n",
    "    return np.array(features)\n",
    "\n",
    "# Process each file\n",
    "for i, filename in enumerate(tqdm(edf_files)):\n",
    "    try:\n",
    "        # Load EEG data\n",
    "        with pyedflib.EdfReader(filename) as f:\n",
    "            n_channels = f.signals_in_file\n",
    "            signal_labels = f.getSignalLabels()\n",
    "            sampling_rate = int(f.getSampleFrequency(0))\n",
    "            \n",
    "            # Read all channels\n",
    "            data = np.zeros((n_channels, f.getNSamples()[0]))\n",
    "            for ch in range(n_channels):\n",
    "                data[ch, :] = f.readSignal(ch)\n",
    "        \n",
    "        # Preprocess and extract features\n",
    "        filtered_data = bandpass_filter(data, fs=sampling_rate)\n",
    "        features = sliding_window_features(filtered_data)\n",
    "\n",
    "\n",
    "        \n",
    "        # Create labels (0 = normal, 1 = seizure)\n",
    "        # Files with 'sz' in name contain seizures\n",
    "        is_seizure = 1 if 'sz' in filename.lower() else 0\n",
    "        labels = np.full(features.shape[0], is_seizure)\n",
    "        \n",
    "        all_features.append(features)\n",
    "        all_labels.append(labels)\n",
    "        \n",
    "        file_info.append({\n",
    "            'filename': filename,\n",
    "            'n_channels': n_channels,\n",
    "            'n_windows': features.shape[0],\n",
    "            'has_seizure': is_seizure,\n",
    "            'duration_hours': data.shape[1] / (sampling_rate * 3600)\n",
    "        })\n",
    "        \n",
    "    except Exception as e:\n",
    "        print(f\"Error processing {filename}: {e}\")\n",
    "\n",
    "# Combine all features and labels\n",
    "X = np.vstack(all_features)\n",
    "y = np.concatenate(all_labels)\n",
    "\n",
    "print(f\"Dataset created:\")\n",
    "print(f\"Total samples: {X.shape[0]}\")\n",
    "print(f\"Features per sample: {X.shape[1]}\")\n",
    "print(f\"Seizure samples: {np.sum(y)}\")\n",
    "print(f\"Normal samples: {len(y) - np.sum(y)}\")\n",
    "\n",
    "# Save complete dataset\n",
    "np.save('eeg_features_complete.npy', X)\n",
    "np.save('eeg_labels_complete.npy', y)\n",
    "pd.DataFrame(file_info).to_csv('file_info.csv', index=False)\n",
    "\n",
    "print(\"Complete dataset saved!\")"
   ]
  },
  {
   "cell_type": "code",
   "execution_count": 24,
   "id": "f967b92a-ac90-4ae3-9f25-594a87dbaf21",
   "metadata": {},
   "outputs": [],
   "source": [
    "from scipy.signal import welch\n",
    "\n",
    "def sliding_window_features(data, window_size=256, step_size=128, fs=256):\n",
    "    num_channels, num_samples = data.shape\n",
    "    features = []\n",
    "    for start in range(0, num_samples - window_size + 1, step_size):\n",
    "        window = data[:, start:start + window_size]\n",
    "        feat = []\n",
    "\n",
    "        for ch in range(num_channels):\n",
    "            ch_data = window[ch]\n",
    "\n",
    "            # Time-domain\n",
    "            feat.append(np.mean(ch_data))\n",
    "            feat.append(np.std(ch_data))\n",
    "\n",
    "            # Frequency-domain using Welch PSD\n",
    "            freqs, psd = welch(ch_data, fs)\n",
    "            # Compute power in standard EEG bands\n",
    "            delta = np.trapz(psd[(freqs >= 0.5) & (freqs < 4)])\n",
    "            theta = np.trapz(psd[(freqs >= 4) & (freqs < 8)])\n",
    "            alpha = np.trapz(psd[(freqs >= 8) & (freqs < 13)])\n",
    "            beta  = np.trapz(psd[(freqs >= 13) & (freqs < 30)])\n",
    "            gamma = np.trapz(psd[(freqs >= 30) & (freqs < 50)])\n",
    "            feat.extend([delta, theta, alpha, beta, gamma])\n",
    "\n",
    "        features.append(feat)\n",
    "\n",
    "    return np.array(features)\n"
   ]
  },
  {
   "cell_type": "code",
   "execution_count": 26,
   "id": "bfa7c4d5-5c52-4c53-bbe4-69b299604e8c",
   "metadata": {},
   "outputs": [],
   "source": [
    "from sklearn.preprocessing import StandardScaler\n",
    "\n",
    "X = np.load('eeg_features_complete.npy')\n",
    "y = np.load('eeg_labels_complete.npy')\n",
    "\n",
    "scaler = StandardScaler()\n",
    "X_scaled = scaler.fit_transform(X)\n",
    "np.save('eeg_features_scaled.npy', X_scaled)\n"
   ]
  },
  {
   "cell_type": "code",
   "execution_count": 28,
   "id": "75a57b24-73a5-4d04-bc68-7be7f2413c72",
   "metadata": {},
   "outputs": [],
   "source": [
    "X_scaled = X_scaled.reshape(-1, 1, X.shape[1], 1)\n"
   ]
  },
  {
   "cell_type": "code",
   "execution_count": 38,
   "id": "0c345e7e-4e93-4ca3-b7b2-469889a4d9ae",
   "metadata": {},
   "outputs": [],
   "source": [
    "import numpy as np\n",
    "import tensorflow as tf\n",
    "from tensorflow.keras import layers, models\n",
    "from keras.saving import register_keras_serializable\n",
    "\n",
    "MAX_TIMESTEPS = 500\n",
    "def pad_or_truncate(data, max_len):\n",
    "    if data.shape[0] > max_len:\n",
    "        return data[:max_len]\n",
    "    else:\n",
    "        pad_width = ((0, max_len - data.shape[0]), (0, 0))  \n",
    "        return np.pad(data, pad_width=pad_width, mode='constant')\n",
    "\n",
    "uniform_features = []\n",
    "for feature in all_features:\n",
    "    uniform_features.append(pad_or_truncate(feature, MAX_TIMESTEPS))\n",
    "\n",
    "all_features = np.array(uniform_features)\n",
    "\n",
    "clean_labels = []\n",
    "for label in all_labels:\n",
    "    if isinstance(label, (list, np.ndarray)):\n",
    "        clean_labels.append(int(label[0]))\n",
    "    else:\n",
    "        clean_labels.append(int(label))\n",
    "\n",
    "all_labels = np.array(clean_labels)\n",
    "\n",
    "all_features = (all_features - all_features.mean()) / all_features.std()\n",
    "\n",
    "#  DEFINE MODEL\n",
    "from keras.saving import register_keras_serializable\n",
    "\n",
    "@register_keras_serializable()\n",
    "class SeizurePredictionModel(tf.keras.Model):\n",
    "    def __init__(self, input_shape=None, **kwargs):\n",
    "        super(SeizurePredictionModel, self).__init__(**kwargs)\n",
    "        self.input_shape_ = input_shape  # Save input_shape for config\n",
    "\n",
    "        self.cnn = models.Sequential([\n",
    "            layers.Conv1D(64, kernel_size=3, activation='relu', input_shape=input_shape),\n",
    "            layers.MaxPooling1D(pool_size=2),\n",
    "            layers.Conv1D(128, kernel_size=3, activation='relu'),\n",
    "            layers.MaxPooling1D(pool_size=2),\n",
    "            layers.Dropout(0.3)\n",
    "        ])\n",
    "        self.lstm = layers.Bidirectional(layers.LSTM(64))\n",
    "        self.dense = layers.Dense(64, activation='relu')\n",
    "        self.out = layers.Dense(1, activation='sigmoid')\n",
    "\n",
    "    def call(self, x):\n",
    "        x = self.cnn(x)\n",
    "        x = self.lstm(x)\n",
    "        x = self.dense(x)\n",
    "        return self.out(x)\n",
    "\n",
    "    def get_config(self):\n",
    "        config = super().get_config()\n",
    "        config.update({\n",
    "            \"input_shape\": self.input_shape_\n",
    "        })\n",
    "        return config\n",
    "\n",
    "    @classmethod\n",
    "    def from_config(cls, config):\n",
    "        return cls(**config)\n"
   ]
  },
  {
   "cell_type": "code",
   "execution_count": 39,
   "id": "03259752-4061-4bae-ab48-52934ee7b17e",
   "metadata": {},
   "outputs": [
    {
     "name": "stdout",
     "output_type": "stream",
     "text": [
      "Epoch 1/10\n",
      "\u001b[1m1/1\u001b[0m \u001b[32m━━━━━━━━━━━━━━━━━━━━\u001b[0m\u001b[37m\u001b[0m \u001b[1m16s\u001b[0m 16s/step - accuracy: 0.7083 - loss: 0.6636 - val_accuracy: 1.0000 - val_loss: 0.3745\n",
      "Epoch 2/10\n",
      "\u001b[1m1/1\u001b[0m \u001b[32m━━━━━━━━━━━━━━━━━━━━\u001b[0m\u001b[37m\u001b[0m \u001b[1m0s\u001b[0m 457ms/step - accuracy: 1.0000 - loss: 0.3976 - val_accuracy: 1.0000 - val_loss: 0.2199\n",
      "Epoch 3/10\n",
      "\u001b[1m1/1\u001b[0m \u001b[32m━━━━━━━━━━━━━━━━━━━━\u001b[0m\u001b[37m\u001b[0m \u001b[1m1s\u001b[0m 687ms/step - accuracy: 1.0000 - loss: 0.2421 - val_accuracy: 1.0000 - val_loss: 0.1272\n",
      "Epoch 4/10\n",
      "\u001b[1m1/1\u001b[0m \u001b[32m━━━━━━━━━━━━━━━━━━━━\u001b[0m\u001b[37m\u001b[0m \u001b[1m1s\u001b[0m 508ms/step - accuracy: 1.0000 - loss: 0.1463 - val_accuracy: 1.0000 - val_loss: 0.0742\n",
      "Epoch 5/10\n",
      "\u001b[1m1/1\u001b[0m \u001b[32m━━━━━━━━━━━━━━━━━━━━\u001b[0m\u001b[37m\u001b[0m \u001b[1m0s\u001b[0m 486ms/step - accuracy: 1.0000 - loss: 0.0873 - val_accuracy: 1.0000 - val_loss: 0.0438\n",
      "Epoch 6/10\n",
      "\u001b[1m1/1\u001b[0m \u001b[32m━━━━━━━━━━━━━━━━━━━━\u001b[0m\u001b[37m\u001b[0m \u001b[1m1s\u001b[0m 549ms/step - accuracy: 1.0000 - loss: 0.0521 - val_accuracy: 1.0000 - val_loss: 0.0263\n",
      "Epoch 7/10\n",
      "\u001b[1m1/1\u001b[0m \u001b[32m━━━━━━━━━━━━━━━━━━━━\u001b[0m\u001b[37m\u001b[0m \u001b[1m0s\u001b[0m 470ms/step - accuracy: 1.0000 - loss: 0.0314 - val_accuracy: 1.0000 - val_loss: 0.0163\n",
      "Epoch 8/10\n",
      "\u001b[1m1/1\u001b[0m \u001b[32m━━━━━━━━━━━━━━━━━━━━\u001b[0m\u001b[37m\u001b[0m \u001b[1m0s\u001b[0m 483ms/step - accuracy: 1.0000 - loss: 0.0194 - val_accuracy: 1.0000 - val_loss: 0.0103\n",
      "Epoch 9/10\n",
      "\u001b[1m1/1\u001b[0m \u001b[32m━━━━━━━━━━━━━━━━━━━━\u001b[0m\u001b[37m\u001b[0m \u001b[1m1s\u001b[0m 685ms/step - accuracy: 1.0000 - loss: 0.0122 - val_accuracy: 1.0000 - val_loss: 0.0067\n",
      "Epoch 10/10\n",
      "\u001b[1m1/1\u001b[0m \u001b[32m━━━━━━━━━━━━━━━━━━━━\u001b[0m\u001b[37m\u001b[0m \u001b[1m0s\u001b[0m 496ms/step - accuracy: 1.0000 - loss: 0.0080 - val_accuracy: 1.0000 - val_loss: 0.0045\n"
     ]
    }
   ],
   "source": [
    "import numpy as np\n",
    "from sklearn.model_selection import train_test_split\n",
    "X_train, X_test, y_train, y_test = train_test_split(all_features, all_labels, test_size=0.2, random_state=42)\n",
    "\n",
    "input_shape = (X_train.shape[1], X_train.shape[2])\n",
    "\n",
    "model = SeizurePredictionModel(input_shape)\n",
    "model.compile(optimizer='adam', loss='binary_crossentropy', metrics=['accuracy'])\n",
    "history = model.fit(X_train, y_train, epochs=10, batch_size=32, validation_split=0.2)\n"
   ]
  },
  {
   "cell_type": "code",
   "execution_count": 40,
   "id": "dcc70425-7c92-476e-8656-d2167f3907fd",
   "metadata": {},
   "outputs": [
    {
     "name": "stdout",
     "output_type": "stream",
     "text": [
      "\u001b[1m1/1\u001b[0m \u001b[32m━━━━━━━━━━━━━━━━━━━━\u001b[0m\u001b[37m\u001b[0m \u001b[1m0s\u001b[0m 183ms/step - accuracy: 1.0000 - loss: 0.0055\n",
      "Test Loss: 0.0055\n",
      "Test Accuracy: 1.0000\n"
     ]
    }
   ],
   "source": [
    "test_loss, test_accuracy = model.evaluate(X_test, y_test)\n",
    "print(f\"Test Loss: {test_loss:.4f}\")\n",
    "print(f\"Test Accuracy: {test_accuracy:.4f}\")\n"
   ]
  },
  {
   "cell_type": "code",
   "execution_count": 41,
   "id": "bcf523f8-066b-41c7-86d3-c91bceeece79",
   "metadata": {},
   "outputs": [
    {
     "name": "stderr",
     "output_type": "stream",
     "text": [
      "WARNING:absl:The `save_format` argument is deprecated in Keras 3. We recommend removing this argument as it can be inferred from the file path. Received: save_format=keras\n"
     ]
    },
    {
     "name": "stdout",
     "output_type": "stream",
     "text": [
      "Model saved successfully as 'seizure_model.keras'\n"
     ]
    }
   ],
   "source": [
    "model.save(\"seizure_model.keras\", save_format=\"keras\")\n",
    "print(\"Model saved successfully as 'seizure_model.keras'\")\n"
   ]
  },
  {
   "cell_type": "code",
   "execution_count": null,
   "id": "90c6251d-7400-409c-8c16-5c456a7a4ce5",
   "metadata": {},
   "outputs": [],
   "source": []
  }
 ],
 "metadata": {
  "kernelspec": {
   "display_name": "Python 3 (ipykernel)",
   "language": "python",
   "name": "python3"
  },
  "language_info": {
   "codemirror_mode": {
    "name": "ipython",
    "version": 3
   },
   "file_extension": ".py",
   "mimetype": "text/x-python",
   "name": "python",
   "nbconvert_exporter": "python",
   "pygments_lexer": "ipython3",
   "version": "3.12.7"
  }
 },
 "nbformat": 4,
 "nbformat_minor": 5
}
